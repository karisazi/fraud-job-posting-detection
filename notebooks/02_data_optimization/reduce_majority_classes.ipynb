{
 "cells": [
  {
   "cell_type": "code",
   "execution_count": 8,
   "id": "3eb39707",
   "metadata": {},
   "outputs": [],
   "source": [
    "import pandas as pd\n",
    "import numpy as np"
   ]
  },
  {
   "cell_type": "code",
   "execution_count": 9,
   "id": "b4e50259",
   "metadata": {},
   "outputs": [
    {
     "name": "stdout",
     "output_type": "stream",
     "text": [
      "(17589, 23)\n"
     ]
    },
    {
     "data": {
      "text/plain": [
       "fraudulent\n",
       "0    16734\n",
       "1      855\n",
       "Name: count, dtype: int64"
      ]
     },
     "execution_count": 9,
     "metadata": {},
     "output_type": "execute_result"
    }
   ],
   "source": [
    "raw_data = pd.read_csv('../../data/processed/preprocessed_job_dataset.csv')\n",
    "print(raw_data.shape)\n",
    "raw_data['fraudulent'].value_counts()"
   ]
  },
  {
   "cell_type": "code",
   "execution_count": 10,
   "id": "ba85635c",
   "metadata": {},
   "outputs": [],
   "source": [
    "# minimize only data with labels 0 not fraud\n",
    "df = raw_data[raw_data['fraudulent']==0]"
   ]
  },
  {
   "cell_type": "code",
   "execution_count": 11,
   "id": "e0eadb82",
   "metadata": {},
   "outputs": [
    {
     "data": {
      "text/plain": [
       "(16734, 23)"
      ]
     },
     "execution_count": 11,
     "metadata": {},
     "output_type": "execute_result"
    }
   ],
   "source": [
    "df.shape"
   ]
  },
  {
   "cell_type": "code",
   "execution_count": 12,
   "id": "a51fc5e8",
   "metadata": {},
   "outputs": [
    {
     "data": {
      "text/plain": [
       "title                  0\n",
       "company_profile        0\n",
       "description            0\n",
       "requirements           0\n",
       "benefits               0\n",
       "telecommuting          0\n",
       "has_company_logo       0\n",
       "has_questions          0\n",
       "employment_type        0\n",
       "required_experience    0\n",
       "required_education     0\n",
       "industry               0\n",
       "function               0\n",
       "fraudulent             0\n",
       "country                0\n",
       "state                  0\n",
       "city                   0\n",
       "combined_text          0\n",
       "industry_grouped       0\n",
       "function_grouped       0\n",
       "country_grouped        0\n",
       "state_grouped          0\n",
       "city_grouped           0\n",
       "dtype: int64"
      ]
     },
     "execution_count": 12,
     "metadata": {},
     "output_type": "execute_result"
    }
   ],
   "source": [
    "df.isnull().sum()"
   ]
  },
  {
   "cell_type": "code",
   "execution_count": 13,
   "id": "2493753b",
   "metadata": {},
   "outputs": [
    {
     "name": "stderr",
     "output_type": "stream",
     "text": [
      "C:\\Users\\Asus\\AppData\\Local\\Temp\\ipykernel_18008\\881549966.py:2: SettingWithCopyWarning: \n",
      "A value is trying to be set on a copy of a slice from a DataFrame.\n",
      "Try using .loc[row_indexer,col_indexer] = value instead\n",
      "\n",
      "See the caveats in the documentation: https://pandas.pydata.org/pandas-docs/stable/user_guide/indexing.html#returning-a-view-versus-a-copy\n",
      "  df['combined_text'] = (\n"
     ]
    }
   ],
   "source": [
    "# Combine relevant text columns\n",
    "df['combined_text'] = (\n",
    "    df['title'] + ' ' +\n",
    "    df['company_profile'] + ' ' +\n",
    "    df['description'] + ' ' +\n",
    "    df['requirements'] + ' ' +\n",
    "    df['benefits']\n",
    ")"
   ]
  },
  {
   "cell_type": "code",
   "execution_count": 14,
   "id": "00bda3b6",
   "metadata": {},
   "outputs": [
    {
     "name": "stderr",
     "output_type": "stream",
     "text": [
      "C:\\Users\\Asus\\AppData\\Local\\Temp\\ipykernel_18008\\3617128452.py:13: SettingWithCopyWarning: \n",
      "A value is trying to be set on a copy of a slice from a DataFrame.\n",
      "Try using .loc[row_indexer,col_indexer] = value instead\n",
      "\n",
      "See the caveats in the documentation: https://pandas.pydata.org/pandas-docs/stable/user_guide/indexing.html#returning-a-view-versus-a-copy\n",
      "  df['cleaned_text'] = df['combined_text'].map(clean_text)\n"
     ]
    }
   ],
   "source": [
    "import re\n",
    "from bs4 import BeautifulSoup\n",
    "import html\n",
    "\n",
    "def clean_text(text):\n",
    "    t = BeautifulSoup(text, \"html.parser\").get_text()\n",
    "    t = html.unescape(t)\n",
    "    t = re.sub(r\"#URL_[^#]+#\", \"\", t)\n",
    "    t = re.sub(r\"\\s+\", \" \", t).strip()\n",
    "    \n",
    "    return t\n",
    "\n",
    "df['cleaned_text'] = df['combined_text'].map(clean_text)\n"
   ]
  },
  {
   "cell_type": "code",
   "execution_count": 15,
   "id": "2d5efdb1",
   "metadata": {},
   "outputs": [],
   "source": [
    "from sklearn.compose import ColumnTransformer\n",
    "from sklearn.preprocessing import OneHotEncoder, OrdinalEncoder\n",
    "\n",
    "# Custom order for ordinal features\n",
    "experience_order = [\n",
    "    'Internship',\n",
    "    'Entry level',\n",
    "    'Associate',\n",
    "    'Mid-Senior level',\n",
    "    'Director',\n",
    "    'Executive',\n",
    "    'Not Applicable',\n",
    "    'Unknown'\n",
    "]\n",
    "\n",
    "education_order = [\n",
    "    'Some High School Coursework',\n",
    "    'High School or equivalent',\n",
    "    'Vocational - HS Diploma',\n",
    "    'Some College Coursework Completed',\n",
    "    'Associate Degree',\n",
    "    'Vocational',\n",
    "    'Vocational - Degree',\n",
    "    'Certification',\n",
    "    \"Bachelor's Degree\",\n",
    "    \"Master's Degree\",\n",
    "    'Professional',\n",
    "    'Doctorate',\n",
    "    'Unspecified',\n",
    "    'Unknown'\n",
    "]\n",
    "\n",
    "preprocessor = ColumnTransformer(\n",
    "    transformers=[\n",
    "        # Ordinal encoding for ordered columns\n",
    "        ('ord', OrdinalEncoder(categories=[experience_order, education_order]), \n",
    "         ['required_experience', 'required_education']),\n",
    "        \n",
    "        # One-hot encoding for nominal columns\n",
    "        ('ohe', OneHotEncoder(handle_unknown='ignore'),\n",
    "         ['employment_type','industry_grouped','function_grouped', 'country_grouped', 'state_grouped', 'city_grouped'])\n",
    "    ],\n",
    "    remainder='passthrough'  # Keep other features \n",
    ")\n"
   ]
  },
  {
   "cell_type": "code",
   "execution_count": 16,
   "id": "64ddaca2",
   "metadata": {},
   "outputs": [],
   "source": [
    "meta_data = df[['telecommuting','has_company_logo', 'has_questions', 'employment_type', 'required_experience', 'required_education', 'industry_grouped', 'function_grouped', 'country_grouped', 'state_grouped', 'city_grouped', 'fraudulent']]\n",
    "\n",
    "X_meta = preprocessor.fit_transform(meta_data)"
   ]
  },
  {
   "cell_type": "code",
   "execution_count": 17,
   "id": "b550eeb6",
   "metadata": {},
   "outputs": [
    {
     "data": {
      "text/plain": [
       "(16734, 24)"
      ]
     },
     "execution_count": 17,
     "metadata": {},
     "output_type": "execute_result"
    }
   ],
   "source": [
    "df.shape"
   ]
  },
  {
   "cell_type": "code",
   "execution_count": 18,
   "id": "8797646b",
   "metadata": {},
   "outputs": [
    {
     "name": "stderr",
     "output_type": "stream",
     "text": [
      "D:\\anaconda3\\envs\\llm_env\\lib\\site-packages\\tqdm\\auto.py:21: TqdmWarning: IProgress not found. Please update jupyter and ipywidgets. See https://ipywidgets.readthedocs.io/en/stable/user_install.html\n",
      "  from .autonotebook import tqdm as notebook_tqdm\n",
      "D:\\anaconda3\\envs\\llm_env\\lib\\site-packages\\huggingface_hub\\file_download.py:943: FutureWarning: `resume_download` is deprecated and will be removed in version 1.0.0. Downloads always resume when possible. If you want to force a new download, use `force_download=True`.\n",
      "  warnings.warn(\n"
     ]
    }
   ],
   "source": [
    "from sentence_transformers import SentenceTransformer\n",
    "\n",
    "# Text embeddings\n",
    "model = SentenceTransformer('all-MiniLM-L6-v2')\n",
    "text_embeddings = model.encode(df['cleaned_text'].tolist())\n"
   ]
  },
  {
   "cell_type": "code",
   "execution_count": 19,
   "id": "4980a4dd",
   "metadata": {},
   "outputs": [],
   "source": [
    "# Combine into one vector per row\n",
    "\n",
    "# Convert to dense if it's sparse\n",
    "if not isinstance(X_meta, np.ndarray):\n",
    "    X_meta = X_meta.toarray()\n",
    "\n",
    "combined_features = np.hstack([text_embeddings, X_meta])\n"
   ]
  },
  {
   "cell_type": "code",
   "execution_count": 20,
   "id": "b9df5a80",
   "metadata": {},
   "outputs": [],
   "source": [
    "from sklearn.metrics.pairwise import cosine_similarity\n",
    "\n",
    "similarity_matrix = cosine_similarity(combined_features)\n",
    "threshold = 0.99\n",
    "\n",
    "# Find duplicates\n",
    "duplicates = np.argwhere(similarity_matrix > threshold)\n"
   ]
  },
  {
   "cell_type": "code",
   "execution_count": 21,
   "id": "b2c8c232",
   "metadata": {},
   "outputs": [
    {
     "data": {
      "text/plain": [
       "array([[    0,     0],\n",
       "       [    0,  4363],\n",
       "       [    0, 10916],\n",
       "       ...,\n",
       "       [16733, 12291],\n",
       "       [16733, 15034],\n",
       "       [16733, 16733]], shape=(600812, 2))"
      ]
     },
     "execution_count": 21,
     "metadata": {},
     "output_type": "execute_result"
    }
   ],
   "source": [
    "duplicates"
   ]
  },
  {
   "cell_type": "code",
   "execution_count": 33,
   "id": "4dff45d4",
   "metadata": {},
   "outputs": [
    {
     "data": {
      "text/html": [
       "<div>\n",
       "<style scoped>\n",
       "    .dataframe tbody tr th:only-of-type {\n",
       "        vertical-align: middle;\n",
       "    }\n",
       "\n",
       "    .dataframe tbody tr th {\n",
       "        vertical-align: top;\n",
       "    }\n",
       "\n",
       "    .dataframe thead th {\n",
       "        text-align: right;\n",
       "    }\n",
       "</style>\n",
       "<table border=\"1\" class=\"dataframe\">\n",
       "  <thead>\n",
       "    <tr style=\"text-align: right;\">\n",
       "      <th></th>\n",
       "      <th>title</th>\n",
       "      <th>company_profile</th>\n",
       "      <th>description</th>\n",
       "      <th>requirements</th>\n",
       "      <th>benefits</th>\n",
       "      <th>telecommuting</th>\n",
       "      <th>has_company_logo</th>\n",
       "      <th>has_questions</th>\n",
       "      <th>employment_type</th>\n",
       "      <th>required_experience</th>\n",
       "      <th>...</th>\n",
       "      <th>country</th>\n",
       "      <th>state</th>\n",
       "      <th>city</th>\n",
       "      <th>combined_text</th>\n",
       "      <th>industry_grouped</th>\n",
       "      <th>function_grouped</th>\n",
       "      <th>country_grouped</th>\n",
       "      <th>state_grouped</th>\n",
       "      <th>city_grouped</th>\n",
       "      <th>cleaned_text</th>\n",
       "    </tr>\n",
       "  </thead>\n",
       "  <tbody>\n",
       "    <tr>\n",
       "      <th>0</th>\n",
       "      <td>Marketing Intern</td>\n",
       "      <td>We're Food52, and we've created a groundbreaki...</td>\n",
       "      <td>Food52, a fast-growing, James Beard Award-winn...</td>\n",
       "      <td>Experience with content management systems a m...</td>\n",
       "      <td>No benefits listed</td>\n",
       "      <td>0</td>\n",
       "      <td>1</td>\n",
       "      <td>0</td>\n",
       "      <td>Other</td>\n",
       "      <td>Internship</td>\n",
       "      <td>...</td>\n",
       "      <td>US</td>\n",
       "      <td>NY</td>\n",
       "      <td>New York</td>\n",
       "      <td>Marketing Intern We're Food52, and we've creat...</td>\n",
       "      <td>Unknown</td>\n",
       "      <td>Marketing</td>\n",
       "      <td>US</td>\n",
       "      <td>NY</td>\n",
       "      <td>New York</td>\n",
       "      <td>Marketing Intern We're Food52, and we've creat...</td>\n",
       "    </tr>\n",
       "    <tr>\n",
       "      <th>4363</th>\n",
       "      <td>Audience Development Intern</td>\n",
       "      <td>We're Food52, and we've created a groundbreaki...</td>\n",
       "      <td>Food52, a fast-growing, James Beard Award-winn...</td>\n",
       "      <td>Experience with content management systems a m...</td>\n",
       "      <td>No benefits listed</td>\n",
       "      <td>0</td>\n",
       "      <td>1</td>\n",
       "      <td>0</td>\n",
       "      <td>Other</td>\n",
       "      <td>Internship</td>\n",
       "      <td>...</td>\n",
       "      <td>US</td>\n",
       "      <td>NY</td>\n",
       "      <td>New York</td>\n",
       "      <td>Audience Development Intern We're Food52, and ...</td>\n",
       "      <td>Unknown</td>\n",
       "      <td>Marketing</td>\n",
       "      <td>US</td>\n",
       "      <td>NY</td>\n",
       "      <td>New York</td>\n",
       "      <td>Audience Development Intern We're Food52, and ...</td>\n",
       "    </tr>\n",
       "  </tbody>\n",
       "</table>\n",
       "<p>2 rows × 24 columns</p>\n",
       "</div>"
      ],
      "text/plain": [
       "                            title  \\\n",
       "0                Marketing Intern   \n",
       "4363  Audience Development Intern   \n",
       "\n",
       "                                        company_profile  \\\n",
       "0     We're Food52, and we've created a groundbreaki...   \n",
       "4363  We're Food52, and we've created a groundbreaki...   \n",
       "\n",
       "                                            description  \\\n",
       "0     Food52, a fast-growing, James Beard Award-winn...   \n",
       "4363  Food52, a fast-growing, James Beard Award-winn...   \n",
       "\n",
       "                                           requirements            benefits  \\\n",
       "0     Experience with content management systems a m...  No benefits listed   \n",
       "4363  Experience with content management systems a m...  No benefits listed   \n",
       "\n",
       "      telecommuting  has_company_logo  has_questions employment_type  \\\n",
       "0                 0                 1              0           Other   \n",
       "4363              0                 1              0           Other   \n",
       "\n",
       "     required_experience  ... country state      city  \\\n",
       "0             Internship  ...      US    NY  New York   \n",
       "4363          Internship  ...      US    NY  New York   \n",
       "\n",
       "                                          combined_text industry_grouped  \\\n",
       "0     Marketing Intern We're Food52, and we've creat...          Unknown   \n",
       "4363  Audience Development Intern We're Food52, and ...          Unknown   \n",
       "\n",
       "     function_grouped country_grouped state_grouped city_grouped  \\\n",
       "0           Marketing              US            NY     New York   \n",
       "4363        Marketing              US            NY     New York   \n",
       "\n",
       "                                           cleaned_text  \n",
       "0     Marketing Intern We're Food52, and we've creat...  \n",
       "4363  Audience Development Intern We're Food52, and ...  \n",
       "\n",
       "[2 rows x 24 columns]"
      ]
     },
     "execution_count": 33,
     "metadata": {},
     "output_type": "execute_result"
    }
   ],
   "source": [
    "df.iloc[[0,4363], :]"
   ]
  },
  {
   "cell_type": "code",
   "execution_count": 23,
   "id": "8f89d2e5",
   "metadata": {},
   "outputs": [],
   "source": [
    "# Remove self matches and mirrored pairs\n",
    "pairs = [(i, j) for i, j in duplicates if i < j]\n"
   ]
  },
  {
   "cell_type": "code",
   "execution_count": 24,
   "id": "69c6353a",
   "metadata": {},
   "outputs": [],
   "source": [
    "to_remove = set()\n",
    "\n",
    "for i, j in pairs:\n",
    "    to_remove.add(j)  # mark the second as duplicate\n",
    "\n",
    "to_remove = sorted(to_remove)\n"
   ]
  },
  {
   "cell_type": "code",
   "execution_count": 25,
   "id": "544a2323",
   "metadata": {},
   "outputs": [
    {
     "name": "stdout",
     "output_type": "stream",
     "text": [
      "                                                   title  \\\n",
      "24                                     Customer Service    \n",
      "25                             H1B SPONSOR FOR L1/L2/OPT   \n",
      "36                    Graduates: English Teacher Abroad    \n",
      "40                               English Teacher Abroad    \n",
      "48                               English Teacher Abroad    \n",
      "...                                                  ...   \n",
      "17584                   Account Director - Distribution    \n",
      "17585                                 Payroll Accountant   \n",
      "17586  Project Cost Control Staff Engineer - Cost Con...   \n",
      "17587                                   Graphic Designer   \n",
      "17588                         Web Application Developers   \n",
      "\n",
      "                                         company_profile  \\\n",
      "24                           No company profile provided   \n",
      "25     i28 Technologies has demonstrated expertise in...   \n",
      "36     We help teachers get safe &amp; secure jobs ab...   \n",
      "40     We help teachers get safe &amp; secure jobs ab...   \n",
      "48     We help teachers get safe &amp; secure jobs ab...   \n",
      "...                                                  ...   \n",
      "17584  Vend is looking for some awesome new talent to...   \n",
      "17585  WebLinc is the e-commerce platform and service...   \n",
      "17586  We Provide Full Time Permanent Positions for m...   \n",
      "17587                        No company profile provided   \n",
      "17588  Vend is looking for some awesome new talent to...   \n",
      "\n",
      "                                             description  \\\n",
      "24     We are a canary wharf based e-commerce company...   \n",
      "25     Hello,Wish you are doing good...              ...   \n",
      "36     Play with kids, get paid for it :-)Love travel...   \n",
      "40     Play with kids, get paid for it Love travel? J...   \n",
      "48     Play with kids, get paid for it Love travel? J...   \n",
      "...                                                  ...   \n",
      "17584  Just in case this is the first time you’ve vis...   \n",
      "17585  The Payroll Accountant will focus primarily on...   \n",
      "17586  Experienced Project Cost Control Staff Enginee...   \n",
      "17587  Nemsia Studios is looking for an experienced v...   \n",
      "17588  Who are we?Vend is an award winning web based ...   \n",
      "\n",
      "                                            requirements  \\\n",
      "24                             No requirements specified   \n",
      "25     JAVA, .NET, SQL, ORACLE, SAP, Informatica, Big...   \n",
      "36     University degree required. TEFL / TESOL / CEL...   \n",
      "40     University degree required. TEFL / TESOL / CEL...   \n",
      "48     University degree required. TEFL / TESOL / CEL...   \n",
      "...                                                  ...   \n",
      "17584  To ace this role you:Will eat comprehensive St...   \n",
      "17585  - B.A. or B.S. in Accounting- Desire to have f...   \n",
      "17586  At least 12 years professional experience.Abil...   \n",
      "17587  1. Must be fluent in the latest versions of Co...   \n",
      "17588  We want to hear from you if:You have an in-dep...   \n",
      "\n",
      "                                                benefits  telecommuting  \\\n",
      "24                                    No benefits listed              0   \n",
      "25                                    No benefits listed              0   \n",
      "36                                   See job description              0   \n",
      "40                                   See job description              0   \n",
      "48                                   See job description              0   \n",
      "...                                                  ...            ...   \n",
      "17584  What can you expect from us?We have an open cu...              0   \n",
      "17585  Health &amp; WellnessMedical planPrescription ...              0   \n",
      "17586                                 No benefits listed              0   \n",
      "17587  Competitive salary (compensation will be based...              0   \n",
      "17588                                 No benefits listed              0   \n",
      "\n",
      "       has_company_logo  has_questions employment_type required_experience  \\\n",
      "24                    0              0         Unknown             Unknown   \n",
      "25                    1              1         Unknown             Unknown   \n",
      "36                    1              0        Contract             Unknown   \n",
      "40                    1              1        Contract             Unknown   \n",
      "48                    1              1        Contract             Unknown   \n",
      "...                 ...            ...             ...                 ...   \n",
      "17584                 1              1       Full-time    Mid-Senior level   \n",
      "17585                 1              1       Full-time    Mid-Senior level   \n",
      "17586                 0              0       Full-time             Unknown   \n",
      "17587                 0              1        Contract      Not Applicable   \n",
      "17588                 1              1       Full-time    Mid-Senior level   \n",
      "\n",
      "       ... country state          city  \\\n",
      "24     ...      GB   LND        London   \n",
      "25     ...      US    NY     New York    \n",
      "36     ...      US    NY       Yonkers   \n",
      "40     ...      US    PA      Kutztown   \n",
      "48     ...      US    OH          Kent   \n",
      "...    ...     ...   ...           ...   \n",
      "17584  ...      CA    ON       Toronto   \n",
      "17585  ...      US    PA  Philadelphia   \n",
      "17586  ...      US    TX       Houston   \n",
      "17587  ...      NG    LA         Lagos   \n",
      "17588  ...      NZ     N    Wellington   \n",
      "\n",
      "                                           combined_text  \\\n",
      "24     Customer Service  No company profile provided ...   \n",
      "25     H1B SPONSOR FOR L1/L2/OPT i28 Technologies has...   \n",
      "36     Graduates: English Teacher Abroad  We help tea...   \n",
      "40     English Teacher Abroad  We help teachers get s...   \n",
      "48     English Teacher Abroad  We help teachers get s...   \n",
      "...                                                  ...   \n",
      "17584  Account Director - Distribution  Vend is looki...   \n",
      "17585  Payroll Accountant WebLinc is the e-commerce p...   \n",
      "17586  Project Cost Control Staff Engineer - Cost Con...   \n",
      "17587  Graphic Designer No company profile provided N...   \n",
      "17588  Web Application Developers Vend is looking for...   \n",
      "\n",
      "           industry_grouped     function_grouped country_grouped  \\\n",
      "24                  Unknown              Unknown              GB   \n",
      "25                  Unknown              Unknown              US   \n",
      "36     Education Management              Unknown              US   \n",
      "40     Education Management              Unknown              US   \n",
      "48     Education Management              Unknown              US   \n",
      "...                     ...                  ...             ...   \n",
      "17584     Computer Software                Sales              CA   \n",
      "17585              Internet  Accounting/Auditing              US   \n",
      "17586               Unknown              Unknown              US   \n",
      "17587                 Other               Design           Other   \n",
      "17588     Computer Software          Engineering              NZ   \n",
      "\n",
      "      state_grouped  city_grouped  \\\n",
      "24              LND        London   \n",
      "25               NY     New York    \n",
      "36               NY         Other   \n",
      "40               PA         Other   \n",
      "48               OH         Other   \n",
      "...             ...           ...   \n",
      "17584            ON       Toronto   \n",
      "17585            PA  Philadelphia   \n",
      "17586            TX       Houston   \n",
      "17587            LA         Other   \n",
      "17588             N    Wellington   \n",
      "\n",
      "                                            cleaned_text  \n",
      "24     Customer Service No company profile provided W...  \n",
      "25     H1B SPONSOR FOR L1/L2/OPT i28 Technologies has...  \n",
      "36     Graduates: English Teacher Abroad We help teac...  \n",
      "40     English Teacher Abroad We help teachers get sa...  \n",
      "48     English Teacher Abroad We help teachers get sa...  \n",
      "...                                                  ...  \n",
      "17584  Account Director - Distribution Vend is lookin...  \n",
      "17585  Payroll Accountant WebLinc is the e-commerce p...  \n",
      "17586  Project Cost Control Staff Engineer - Cost Con...  \n",
      "17587  Graphic Designer No company profile provided N...  \n",
      "17588  Web Application Developers Vend is looking for...  \n",
      "\n",
      "[9004 rows x 24 columns]\n"
     ]
    }
   ],
   "source": [
    "duplicates_data = df.iloc[to_remove]\n",
    "print(duplicates_data)\n"
   ]
  },
  {
   "cell_type": "code",
   "execution_count": 26,
   "id": "4ed90703",
   "metadata": {},
   "outputs": [],
   "source": [
    "df = df.reset_index(drop=True)\n",
    "data_clean = df.drop(index=to_remove)"
   ]
  },
  {
   "cell_type": "code",
   "execution_count": 27,
   "id": "66fd3e17",
   "metadata": {},
   "outputs": [
    {
     "data": {
      "text/plain": [
       "(7730, 24)"
      ]
     },
     "execution_count": 27,
     "metadata": {},
     "output_type": "execute_result"
    }
   ],
   "source": [
    "data_clean.shape"
   ]
  },
  {
   "cell_type": "code",
   "execution_count": 28,
   "id": "a4d4601e",
   "metadata": {},
   "outputs": [
    {
     "data": {
      "text/html": [
       "<div>\n",
       "<style scoped>\n",
       "    .dataframe tbody tr th:only-of-type {\n",
       "        vertical-align: middle;\n",
       "    }\n",
       "\n",
       "    .dataframe tbody tr th {\n",
       "        vertical-align: top;\n",
       "    }\n",
       "\n",
       "    .dataframe thead th {\n",
       "        text-align: right;\n",
       "    }\n",
       "</style>\n",
       "<table border=\"1\" class=\"dataframe\">\n",
       "  <thead>\n",
       "    <tr style=\"text-align: right;\">\n",
       "      <th></th>\n",
       "      <th>title</th>\n",
       "      <th>company_profile</th>\n",
       "      <th>description</th>\n",
       "      <th>requirements</th>\n",
       "      <th>benefits</th>\n",
       "      <th>telecommuting</th>\n",
       "      <th>has_company_logo</th>\n",
       "      <th>has_questions</th>\n",
       "      <th>employment_type</th>\n",
       "      <th>required_experience</th>\n",
       "      <th>...</th>\n",
       "      <th>country</th>\n",
       "      <th>state</th>\n",
       "      <th>city</th>\n",
       "      <th>combined_text</th>\n",
       "      <th>industry_grouped</th>\n",
       "      <th>function_grouped</th>\n",
       "      <th>country_grouped</th>\n",
       "      <th>state_grouped</th>\n",
       "      <th>city_grouped</th>\n",
       "      <th>cleaned_text</th>\n",
       "    </tr>\n",
       "  </thead>\n",
       "  <tbody>\n",
       "    <tr>\n",
       "      <th>0</th>\n",
       "      <td>Marketing Intern</td>\n",
       "      <td>We're Food52, and we've created a groundbreaki...</td>\n",
       "      <td>Food52, a fast-growing, James Beard Award-winn...</td>\n",
       "      <td>Experience with content management systems a m...</td>\n",
       "      <td>No benefits listed</td>\n",
       "      <td>0</td>\n",
       "      <td>1</td>\n",
       "      <td>0</td>\n",
       "      <td>Other</td>\n",
       "      <td>Internship</td>\n",
       "      <td>...</td>\n",
       "      <td>US</td>\n",
       "      <td>NY</td>\n",
       "      <td>New York</td>\n",
       "      <td>Marketing Intern We're Food52, and we've creat...</td>\n",
       "      <td>Unknown</td>\n",
       "      <td>Marketing</td>\n",
       "      <td>US</td>\n",
       "      <td>NY</td>\n",
       "      <td>New York</td>\n",
       "      <td>Marketing Intern We're Food52, and we've creat...</td>\n",
       "    </tr>\n",
       "    <tr>\n",
       "      <th>1</th>\n",
       "      <td>Customer Service - Cloud Video Production</td>\n",
       "      <td>90 Seconds, the worlds Cloud Video Production ...</td>\n",
       "      <td>Organised - Focused - Vibrant - Awesome!Do you...</td>\n",
       "      <td>What we expect from you:Your key responsibilit...</td>\n",
       "      <td>What you will get from usThrough being part of...</td>\n",
       "      <td>0</td>\n",
       "      <td>1</td>\n",
       "      <td>0</td>\n",
       "      <td>Full-time</td>\n",
       "      <td>Not Applicable</td>\n",
       "      <td>...</td>\n",
       "      <td>NZ</td>\n",
       "      <td>Unknown</td>\n",
       "      <td>Auckland</td>\n",
       "      <td>Customer Service - Cloud Video Production 90 S...</td>\n",
       "      <td>Marketing and Advertising</td>\n",
       "      <td>Customer Service</td>\n",
       "      <td>NZ</td>\n",
       "      <td>Unknown</td>\n",
       "      <td>Auckland</td>\n",
       "      <td>Customer Service - Cloud Video Production 90 S...</td>\n",
       "    </tr>\n",
       "    <tr>\n",
       "      <th>2</th>\n",
       "      <td>Commissioning Machinery Assistant (CMA)</td>\n",
       "      <td>Valor Services provides Workforce Solutions th...</td>\n",
       "      <td>Our client, located in Houston, is actively se...</td>\n",
       "      <td>Implement pre-commissioning and commissioning ...</td>\n",
       "      <td>No benefits listed</td>\n",
       "      <td>0</td>\n",
       "      <td>1</td>\n",
       "      <td>0</td>\n",
       "      <td>Unknown</td>\n",
       "      <td>Unknown</td>\n",
       "      <td>...</td>\n",
       "      <td>US</td>\n",
       "      <td>IA</td>\n",
       "      <td>Wever</td>\n",
       "      <td>Commissioning Machinery Assistant (CMA) Valor ...</td>\n",
       "      <td>Unknown</td>\n",
       "      <td>Unknown</td>\n",
       "      <td>US</td>\n",
       "      <td>IA</td>\n",
       "      <td>Other</td>\n",
       "      <td>Commissioning Machinery Assistant (CMA) Valor ...</td>\n",
       "    </tr>\n",
       "    <tr>\n",
       "      <th>3</th>\n",
       "      <td>Account Executive - Washington DC</td>\n",
       "      <td>Our passion for improving quality of life thro...</td>\n",
       "      <td>THE COMPANY: ESRI – Environmental Systems Rese...</td>\n",
       "      <td>EDUCATION: Bachelor’s or Master’s in GIS, busi...</td>\n",
       "      <td>Our culture is anything but corporate—we have ...</td>\n",
       "      <td>0</td>\n",
       "      <td>1</td>\n",
       "      <td>0</td>\n",
       "      <td>Full-time</td>\n",
       "      <td>Mid-Senior level</td>\n",
       "      <td>...</td>\n",
       "      <td>US</td>\n",
       "      <td>DC</td>\n",
       "      <td>Washington</td>\n",
       "      <td>Account Executive - Washington DC Our passion ...</td>\n",
       "      <td>Computer Software</td>\n",
       "      <td>Sales</td>\n",
       "      <td>US</td>\n",
       "      <td>DC</td>\n",
       "      <td>Washington</td>\n",
       "      <td>Account Executive - Washington DC Our passion ...</td>\n",
       "    </tr>\n",
       "    <tr>\n",
       "      <th>4</th>\n",
       "      <td>Bill Review Manager</td>\n",
       "      <td>SpotSource Solutions LLC is a Global Human Cap...</td>\n",
       "      <td>JOB TITLE: Itemization Review ManagerLOCATION:...</td>\n",
       "      <td>QUALIFICATIONS:RN license in the State of Texa...</td>\n",
       "      <td>Full Benefits Offered</td>\n",
       "      <td>0</td>\n",
       "      <td>1</td>\n",
       "      <td>1</td>\n",
       "      <td>Full-time</td>\n",
       "      <td>Mid-Senior level</td>\n",
       "      <td>...</td>\n",
       "      <td>US</td>\n",
       "      <td>FL</td>\n",
       "      <td>Fort Worth</td>\n",
       "      <td>Bill Review Manager SpotSource Solutions LLC i...</td>\n",
       "      <td>Hospital &amp; Health Care</td>\n",
       "      <td>Health Care Provider</td>\n",
       "      <td>US</td>\n",
       "      <td>FL</td>\n",
       "      <td>Fort Worth</td>\n",
       "      <td>Bill Review Manager SpotSource Solutions LLC i...</td>\n",
       "    </tr>\n",
       "  </tbody>\n",
       "</table>\n",
       "<p>5 rows × 24 columns</p>\n",
       "</div>"
      ],
      "text/plain": [
       "                                       title  \\\n",
       "0                           Marketing Intern   \n",
       "1  Customer Service - Cloud Video Production   \n",
       "2    Commissioning Machinery Assistant (CMA)   \n",
       "3          Account Executive - Washington DC   \n",
       "4                        Bill Review Manager   \n",
       "\n",
       "                                     company_profile  \\\n",
       "0  We're Food52, and we've created a groundbreaki...   \n",
       "1  90 Seconds, the worlds Cloud Video Production ...   \n",
       "2  Valor Services provides Workforce Solutions th...   \n",
       "3  Our passion for improving quality of life thro...   \n",
       "4  SpotSource Solutions LLC is a Global Human Cap...   \n",
       "\n",
       "                                         description  \\\n",
       "0  Food52, a fast-growing, James Beard Award-winn...   \n",
       "1  Organised - Focused - Vibrant - Awesome!Do you...   \n",
       "2  Our client, located in Houston, is actively se...   \n",
       "3  THE COMPANY: ESRI – Environmental Systems Rese...   \n",
       "4  JOB TITLE: Itemization Review ManagerLOCATION:...   \n",
       "\n",
       "                                        requirements  \\\n",
       "0  Experience with content management systems a m...   \n",
       "1  What we expect from you:Your key responsibilit...   \n",
       "2  Implement pre-commissioning and commissioning ...   \n",
       "3  EDUCATION: Bachelor’s or Master’s in GIS, busi...   \n",
       "4  QUALIFICATIONS:RN license in the State of Texa...   \n",
       "\n",
       "                                            benefits  telecommuting  \\\n",
       "0                                 No benefits listed              0   \n",
       "1  What you will get from usThrough being part of...              0   \n",
       "2                                 No benefits listed              0   \n",
       "3  Our culture is anything but corporate—we have ...              0   \n",
       "4                              Full Benefits Offered              0   \n",
       "\n",
       "   has_company_logo  has_questions employment_type required_experience  ...  \\\n",
       "0                 1              0           Other          Internship  ...   \n",
       "1                 1              0       Full-time      Not Applicable  ...   \n",
       "2                 1              0         Unknown             Unknown  ...   \n",
       "3                 1              0       Full-time    Mid-Senior level  ...   \n",
       "4                 1              1       Full-time    Mid-Senior level  ...   \n",
       "\n",
       "  country    state        city  \\\n",
       "0      US       NY    New York   \n",
       "1      NZ  Unknown    Auckland   \n",
       "2      US       IA       Wever   \n",
       "3      US       DC  Washington   \n",
       "4      US       FL  Fort Worth   \n",
       "\n",
       "                                       combined_text  \\\n",
       "0  Marketing Intern We're Food52, and we've creat...   \n",
       "1  Customer Service - Cloud Video Production 90 S...   \n",
       "2  Commissioning Machinery Assistant (CMA) Valor ...   \n",
       "3  Account Executive - Washington DC Our passion ...   \n",
       "4  Bill Review Manager SpotSource Solutions LLC i...   \n",
       "\n",
       "            industry_grouped      function_grouped country_grouped  \\\n",
       "0                    Unknown             Marketing              US   \n",
       "1  Marketing and Advertising      Customer Service              NZ   \n",
       "2                    Unknown               Unknown              US   \n",
       "3          Computer Software                 Sales              US   \n",
       "4     Hospital & Health Care  Health Care Provider              US   \n",
       "\n",
       "  state_grouped city_grouped  \\\n",
       "0            NY     New York   \n",
       "1       Unknown     Auckland   \n",
       "2            IA        Other   \n",
       "3            DC   Washington   \n",
       "4            FL   Fort Worth   \n",
       "\n",
       "                                        cleaned_text  \n",
       "0  Marketing Intern We're Food52, and we've creat...  \n",
       "1  Customer Service - Cloud Video Production 90 S...  \n",
       "2  Commissioning Machinery Assistant (CMA) Valor ...  \n",
       "3  Account Executive - Washington DC Our passion ...  \n",
       "4  Bill Review Manager SpotSource Solutions LLC i...  \n",
       "\n",
       "[5 rows x 24 columns]"
      ]
     },
     "execution_count": 28,
     "metadata": {},
     "output_type": "execute_result"
    }
   ],
   "source": [
    "data_clean.head()"
   ]
  },
  {
   "cell_type": "code",
   "execution_count": 29,
   "id": "de914a1b",
   "metadata": {},
   "outputs": [],
   "source": [
    "df_label_1 = raw_data[raw_data['fraudulent']==1]"
   ]
  },
  {
   "cell_type": "code",
   "execution_count": 30,
   "id": "08af985e",
   "metadata": {},
   "outputs": [],
   "source": [
    "df_dedup = pd.concat([data_clean, df_label_1], axis=0)"
   ]
  },
  {
   "cell_type": "code",
   "execution_count": 31,
   "id": "4a2f8023",
   "metadata": {},
   "outputs": [
    {
     "data": {
      "text/plain": [
       "(8585, 24)"
      ]
     },
     "execution_count": 31,
     "metadata": {},
     "output_type": "execute_result"
    }
   ],
   "source": [
    "df_dedup.shape"
   ]
  },
  {
   "cell_type": "code",
   "execution_count": 32,
   "id": "6aa181e4",
   "metadata": {},
   "outputs": [],
   "source": [
    "df_dedup.to_csv('../../data/processed/undersampling_no_similar_data.csv', index=False)"
   ]
  }
 ],
 "metadata": {
  "kernelspec": {
   "display_name": "Python (llm_env)",
   "language": "python",
   "name": "llm_env"
  },
  "language_info": {
   "codemirror_mode": {
    "name": "ipython",
    "version": 3
   },
   "file_extension": ".py",
   "mimetype": "text/x-python",
   "name": "python",
   "nbconvert_exporter": "python",
   "pygments_lexer": "ipython3",
   "version": "3.10.18"
  }
 },
 "nbformat": 4,
 "nbformat_minor": 5
}

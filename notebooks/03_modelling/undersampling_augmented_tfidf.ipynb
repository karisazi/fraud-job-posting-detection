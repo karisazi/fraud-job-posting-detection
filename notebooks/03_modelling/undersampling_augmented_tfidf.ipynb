{
 "cells": [
  {
   "cell_type": "code",
   "execution_count": 18,
   "id": "caab60d7",
   "metadata": {},
   "outputs": [],
   "source": [
    "import pandas as pd\n",
    "import numpy as np\n",
    "# import matplotlib.pyplot as plt\n",
    "# import seaborn as sns\n",
    "# %matplotlib inline"
   ]
  },
  {
   "cell_type": "markdown",
   "id": "099328a0",
   "metadata": {},
   "source": [
    "**Augmentation must be applied only on train set**"
   ]
  },
  {
   "cell_type": "markdown",
   "id": "66728bda",
   "metadata": {},
   "source": [
    "Performance xgboost gets worse using augmentation with back translation"
   ]
  },
  {
   "cell_type": "code",
   "execution_count": 19,
   "id": "67a5e0d9",
   "metadata": {},
   "outputs": [
    {
     "data": {
      "text/plain": [
       "(8328, 24)"
      ]
     },
     "execution_count": 19,
     "metadata": {},
     "output_type": "execute_result"
    }
   ],
   "source": [
    "data_train = pd.read_csv('../../data/processed/back_translation/augmented_train_data.csv')\n",
    "data_train.shape"
   ]
  },
  {
   "cell_type": "code",
   "execution_count": 20,
   "id": "4f5f64ec",
   "metadata": {},
   "outputs": [
    {
     "data": {
      "text/plain": [
       "(1702, 24)"
      ]
     },
     "execution_count": 20,
     "metadata": {},
     "output_type": "execute_result"
    }
   ],
   "source": [
    "data_test = pd.read_csv('../../data/processed/back_translation/data_test.csv')\n",
    "data_test.shape"
   ]
  },
  {
   "cell_type": "code",
   "execution_count": 21,
   "id": "720910a4",
   "metadata": {},
   "outputs": [],
   "source": [
    "from sklearn.feature_extraction.text import TfidfVectorizer\n",
    "# Vectorize Using TFIDF\n",
    "tfidf = TfidfVectorizer(max_features=5000, ngram_range=(1, 2), stop_words='english')\n",
    "X_text_tfidf_train = tfidf.fit_transform(data_train['cleaned_text'])\n",
    "X_text_tfidf_test = tfidf.fit_transform(data_test['cleaned_text'])"
   ]
  },
  {
   "cell_type": "code",
   "execution_count": 22,
   "id": "22a69b81",
   "metadata": {},
   "outputs": [
    {
     "data": {
      "text/plain": [
       "((8328, 5000), (1702, 5000))"
      ]
     },
     "execution_count": 22,
     "metadata": {},
     "output_type": "execute_result"
    }
   ],
   "source": [
    "X_text_tfidf_train.shape, X_text_tfidf_test.shape"
   ]
  },
  {
   "cell_type": "code",
   "execution_count": 23,
   "id": "684901bc",
   "metadata": {},
   "outputs": [
    {
     "name": "stderr",
     "output_type": "stream",
     "text": [
      "D:\\anaconda3\\envs\\llm_env\\lib\\site-packages\\huggingface_hub\\file_download.py:943: FutureWarning: `resume_download` is deprecated and will be removed in version 1.0.0. Downloads always resume when possible. If you want to force a new download, use `force_download=True`.\n",
      "  warnings.warn(\n"
     ]
    }
   ],
   "source": [
    "# vectorize embedding\n",
    "\n",
    "from sentence_transformers import SentenceTransformer\n",
    "import xgboost as xgb\n",
    "\n",
    "# Load model embedding\n",
    "model = SentenceTransformer('sentence-transformers/all-MiniLM-L6-v2')\n",
    "\n",
    "X_text_embedding_train = model.encode(data_train['cleaned_text'].tolist())\n",
    "X_text_embedding_test = model.encode(data_test['cleaned_text'].tolist())"
   ]
  },
  {
   "cell_type": "code",
   "execution_count": 24,
   "id": "2d4760dd",
   "metadata": {
    "scrolled": true
   },
   "outputs": [
    {
     "data": {
      "text/plain": [
       "((8328, 384), (1702, 384))"
      ]
     },
     "execution_count": 24,
     "metadata": {},
     "output_type": "execute_result"
    }
   ],
   "source": [
    "X_text_embedding_train.shape, X_text_embedding_test.shape"
   ]
  },
  {
   "cell_type": "code",
   "execution_count": 25,
   "id": "5cb56607",
   "metadata": {},
   "outputs": [
    {
     "data": {
      "text/plain": [
       "Index(['title', 'company_profile', 'description', 'requirements', 'benefits',\n",
       "       'telecommuting', 'has_company_logo', 'has_questions', 'employment_type',\n",
       "       'required_experience', 'required_education', 'industry', 'function',\n",
       "       'fraudulent', 'country', 'state', 'city', 'combined_text',\n",
       "       'cleaned_text', 'industry_grouped', 'function_grouped',\n",
       "       'country_grouped', 'state_grouped', 'city_grouped'],\n",
       "      dtype='object')"
      ]
     },
     "execution_count": 25,
     "metadata": {},
     "output_type": "execute_result"
    }
   ],
   "source": [
    "data_train.columns"
   ]
  },
  {
   "cell_type": "code",
   "execution_count": 26,
   "id": "11a1fb74",
   "metadata": {},
   "outputs": [],
   "source": [
    "data_train_meta = data_train[['telecommuting','has_company_logo', 'has_questions', 'employment_type', 'required_experience', 'required_education', 'industry_grouped', 'function_grouped', 'country_grouped', 'state_grouped', 'city_grouped']]\n",
    "data_test_meta = data_test[['telecommuting','has_company_logo', 'has_questions', 'employment_type', 'required_experience', 'required_education', 'industry_grouped', 'function_grouped', 'country_grouped', 'state_grouped', 'city_grouped']]"
   ]
  },
  {
   "cell_type": "code",
   "execution_count": 27,
   "id": "30ae6b68",
   "metadata": {},
   "outputs": [],
   "source": [
    "from sklearn.compose import ColumnTransformer\n",
    "from sklearn.preprocessing import OneHotEncoder, OrdinalEncoder\n",
    "\n",
    "# Custom order for ordinal features\n",
    "experience_order = [\n",
    "    'Internship',\n",
    "    'Entry level',\n",
    "    'Associate',\n",
    "    'Mid-Senior level',\n",
    "    'Director',\n",
    "    'Executive',\n",
    "    'Not Applicable',\n",
    "    'Unknown'\n",
    "]\n",
    "\n",
    "education_order = [\n",
    "    'Some High School Coursework',\n",
    "    'High School or equivalent',\n",
    "    'Vocational - HS Diploma',\n",
    "    'Some College Coursework Completed',\n",
    "    'Associate Degree',\n",
    "    'Vocational',\n",
    "    'Vocational - Degree',\n",
    "    'Certification',\n",
    "    \"Bachelor's Degree\",\n",
    "    \"Master's Degree\",\n",
    "    'Professional',\n",
    "    'Doctorate',\n",
    "    'Unspecified',\n",
    "    'Unknown'\n",
    "]\n",
    "\n",
    "preprocessor = ColumnTransformer(\n",
    "    transformers=[\n",
    "        # Ordinal encoding for ordered columns\n",
    "        ('ord', OrdinalEncoder(categories=[experience_order, education_order]), \n",
    "         ['required_experience', 'required_education']),\n",
    "        \n",
    "        # One-hot encoding for nominal columns\n",
    "        ('ohe', OneHotEncoder(drop='first', handle_unknown='ignore'),\n",
    "         ['employment_type','industry_grouped','function_grouped', 'country_grouped', 'state_grouped', 'city_grouped'])\n",
    "    ],\n",
    "    remainder='passthrough'  # Keep other features \n",
    ")\n"
   ]
  },
  {
   "cell_type": "code",
   "execution_count": 28,
   "id": "3d71bddf",
   "metadata": {},
   "outputs": [
    {
     "name": "stderr",
     "output_type": "stream",
     "text": [
      "D:\\anaconda3\\envs\\llm_env\\lib\\site-packages\\sklearn\\preprocessing\\_encoders.py:246: UserWarning: Found unknown categories in columns [5] during transform. These unknown categories will be encoded as all zeros\n",
      "  warnings.warn(\n"
     ]
    }
   ],
   "source": [
    "y_train = data_train['fraudulent']\n",
    "data_meta_train_encoded = preprocessor.fit_transform(data_train_meta)\n",
    "\n",
    "y_test = data_test['fraudulent']\n",
    "data_meta_test_encoded = preprocessor.transform(data_test_meta)"
   ]
  },
  {
   "cell_type": "code",
   "execution_count": 29,
   "id": "36456bb7",
   "metadata": {},
   "outputs": [
    {
     "data": {
      "text/plain": [
       "((8328, 471), (1702, 471))"
      ]
     },
     "execution_count": 29,
     "metadata": {},
     "output_type": "execute_result"
    }
   ],
   "source": [
    "data_meta_train_encoded.shape, data_meta_test_encoded.shape"
   ]
  },
  {
   "cell_type": "code",
   "execution_count": 30,
   "id": "4858abd0",
   "metadata": {},
   "outputs": [],
   "source": [
    "# embedding + tfidf\n",
    "\n",
    "from scipy.sparse import hstack\n",
    "\n",
    "X_train = hstack([X_text_tfidf_train, data_meta_train_encoded])  \n",
    "X_test = hstack([X_text_tfidf_test, data_meta_test_encoded])  "
   ]
  },
  {
   "cell_type": "code",
   "execution_count": 31,
   "id": "2cefbac1",
   "metadata": {},
   "outputs": [
    {
     "data": {
      "text/plain": [
       "((8328, 5471), (1702, 5471))"
      ]
     },
     "execution_count": 31,
     "metadata": {},
     "output_type": "execute_result"
    }
   ],
   "source": [
    "X_train.shape, X_test.shape"
   ]
  },
  {
   "cell_type": "code",
   "execution_count": 32,
   "id": "3408639e",
   "metadata": {},
   "outputs": [
    {
     "data": {
      "text/plain": [
       "fraudulent\n",
       "0    6113\n",
       "1    2215\n",
       "Name: count, dtype: int64"
      ]
     },
     "execution_count": 32,
     "metadata": {},
     "output_type": "execute_result"
    }
   ],
   "source": [
    "y_train.value_counts()"
   ]
  },
  {
   "cell_type": "markdown",
   "id": "523a361c",
   "metadata": {},
   "source": [
    "### Modelling"
   ]
  },
  {
   "cell_type": "code",
   "execution_count": 34,
   "id": "144207e4",
   "metadata": {},
   "outputs": [],
   "source": [
    "from xgboost import XGBClassifier\n",
    "\n",
    "from sklearn.metrics import classification_report\n",
    "from sklearn.metrics import precision_recall_fscore_support"
   ]
  },
  {
   "cell_type": "code",
   "execution_count": 35,
   "id": "cc765739",
   "metadata": {},
   "outputs": [
    {
     "data": {
      "text/plain": [
       "2.7598194130925506"
      ]
     },
     "execution_count": 35,
     "metadata": {},
     "output_type": "execute_result"
    }
   ],
   "source": [
    "# ratio = 12166/586\n",
    "ratio = 6113/2215\n",
    "ratio"
   ]
  },
  {
   "cell_type": "code",
   "execution_count": 37,
   "id": "55f30ace",
   "metadata": {},
   "outputs": [
    {
     "name": "stdout",
     "output_type": "stream",
     "text": [
      "              precision    recall  f1-score   support\n",
      "\n",
      "           0       0.99      0.44      0.61      1529\n",
      "           1       0.16      0.95      0.28       173\n",
      "\n",
      "    accuracy                           0.50      1702\n",
      "   macro avg       0.58      0.70      0.45      1702\n",
      "weighted avg       0.90      0.50      0.58      1702\n",
      "\n"
     ]
    }
   ],
   "source": [
    "# model with tfidf\n",
    "ratio = 6113/2215\n",
    "\n",
    "clf_xgb = XGBClassifier(scale_pos_weight=ratio)\n",
    "clf_xgb.fit(X_train, y_train)\n",
    "\n",
    "y_pred = clf_xgb.predict(X_test)\n",
    "print(classification_report(y_test, y_pred))"
   ]
  },
  {
   "cell_type": "markdown",
   "id": "90e74449-6454-4d7a-9776-af61c6be5563",
   "metadata": {},
   "source": [
    "Augmentation on minority class makes model perform worse"
   ]
  }
 ],
 "metadata": {
  "kernelspec": {
   "display_name": "Python (llm_env)",
   "language": "python",
   "name": "llm_env"
  },
  "language_info": {
   "codemirror_mode": {
    "name": "ipython",
    "version": 3
   },
   "file_extension": ".py",
   "mimetype": "text/x-python",
   "name": "python",
   "nbconvert_exporter": "python",
   "pygments_lexer": "ipython3",
   "version": "3.10.18"
  }
 },
 "nbformat": 4,
 "nbformat_minor": 5
}
